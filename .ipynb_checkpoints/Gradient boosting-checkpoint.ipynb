{
 "cells": [
  {
   "cell_type": "code",
   "execution_count": null,
   "id": "1c904fbe",
   "metadata": {},
   "outputs": [],
   "source": [
    "import pandas as pd\n",
    "import matplotlib.pyplot as plt\n",
    "import seaborn as sns\n",
    "import numpy as np"
   ]
  },
  {
   "cell_type": "code",
   "execution_count": null,
   "id": "039f707a",
   "metadata": {},
   "outputs": [],
   "source": [
    "df=pd.read_csv(\"C:/Users/Abdelrahman/Documents/task2-EDA/multiple dataset _Copy.csv\")\n",
    "df.head()"
   ]
  },
  {
   "cell_type": "code",
   "execution_count": null,
   "id": "cb2827a9",
   "metadata": {},
   "outputs": [],
   "source": [
    "df = df.sample(frac=1).reset_index(drop=True)"
   ]
  },
  {
   "cell_type": "code",
   "execution_count": null,
   "id": "4ba1eeff",
   "metadata": {},
   "outputs": [],
   "source": [
    "df.head(8)"
   ]
  },
  {
   "cell_type": "code",
   "execution_count": null,
   "id": "f7f8fe10",
   "metadata": {},
   "outputs": [],
   "source": [
    "df.drop(\"postId\",axis=1,inplace=True)"
   ]
  },
  {
   "cell_type": "code",
   "execution_count": null,
   "id": "4cc88910",
   "metadata": {},
   "outputs": [],
   "source": [
    "df.head()"
   ]
  },
  {
   "cell_type": "code",
   "execution_count": null,
   "id": "2892d66a",
   "metadata": {},
   "outputs": [],
   "source": [
    "df.shape"
   ]
  },
  {
   "cell_type": "code",
   "execution_count": null,
   "id": "12933547",
   "metadata": {},
   "outputs": [],
   "source": [
    "df.topic.value_counts()"
   ]
  },
  {
   "cell_type": "code",
   "execution_count": null,
   "id": "77874f38",
   "metadata": {},
   "outputs": [],
   "source": [
    "import string , nltk\n",
    "from nltk import word_tokenize\n",
    "from nltk.corpus import stopwords\n",
    "from nltk.stem import WordNetLemmatizer"
   ]
  },
  {
   "cell_type": "code",
   "execution_count": null,
   "id": "a215844a",
   "metadata": {},
   "outputs": [],
   "source": [
    "stop_words_list = nltk.corpus.stopwords.words(\"arabic\")\n",
    "stop_words_list[:10]"
   ]
  },
  {
   "cell_type": "code",
   "execution_count": null,
   "id": "31aece40",
   "metadata": {},
   "outputs": [],
   "source": [
    "porter = nltk.PorterStemmer()\n",
    "lemma_nltk = WordNetLemmatizer()"
   ]
  },
  {
   "cell_type": "code",
   "execution_count": null,
   "id": "c1db6b58",
   "metadata": {},
   "outputs": [],
   "source": [
    "def clean_text(text):\n",
    "    text = \"\".join([word.lower() for word in text if word not in string.punctuation])\n",
    "    tokens = word_tokenize(text)\n",
    "    text = \" \".join([lemma_nltk.lemmatize(word) for word in tokens if word not in stop_words_list])\n",
    "    return text"
   ]
  },
  {
   "cell_type": "code",
   "execution_count": null,
   "id": "5a2f9538",
   "metadata": {},
   "outputs": [],
   "source": [
    "df['cleaned_comments'] = df['comment'].apply(lambda x:clean_text(x))"
   ]
  },
  {
   "cell_type": "code",
   "execution_count": null,
   "id": "00311722",
   "metadata": {},
   "outputs": [],
   "source": [
    "df.head(8)"
   ]
  },
  {
   "cell_type": "code",
   "execution_count": null,
   "id": "7ddcd388",
   "metadata": {},
   "outputs": [],
   "source": [
    "from sklearn.feature_extraction.text import CountVectorizer,TfidfVectorizer"
   ]
  },
  {
   "cell_type": "code",
   "execution_count": null,
   "id": "f3014034",
   "metadata": {},
   "outputs": [],
   "source": [
    "bow_vec = CountVectorizer()\n",
    "bow_matrix = bow_vec.fit_transform(df['cleaned_comments'])"
   ]
  },
  {
   "cell_type": "code",
   "execution_count": null,
   "id": "0b1891ed",
   "metadata": {},
   "outputs": [],
   "source": [
    "print(\"Sparse Matrix \\n\" , bow_matrix)"
   ]
  },
  {
   "cell_type": "code",
   "execution_count": null,
   "id": "70135585",
   "metadata": {},
   "outputs": [],
   "source": [
    "arr_mat = bow_matrix.toarray()\n",
    "arr_mat"
   ]
  },
  {
   "cell_type": "code",
   "execution_count": null,
   "id": "f2cea3de",
   "metadata": {},
   "outputs": [],
   "source": [
    "data = pd.DataFrame(arr_mat)\n",
    "data.head()"
   ]
  },
  {
   "cell_type": "code",
   "execution_count": null,
   "id": "d0dda376",
   "metadata": {},
   "outputs": [],
   "source": [
    "bow_matrix.shape"
   ]
  },
  {
   "cell_type": "code",
   "execution_count": null,
   "id": "4628a5c5",
   "metadata": {},
   "outputs": [],
   "source": [
    "ngram_vec = CountVectorizer(ngram_range=(1,2))\n",
    "ngram_matrix = ngram_vec.fit_transform(df['cleaned_comments'])"
   ]
  },
  {
   "cell_type": "code",
   "execution_count": null,
   "id": "c5ea64d0",
   "metadata": {},
   "outputs": [],
   "source": [
    "print(\"Sparse Matrix is \\n\" , ngram_matrix)"
   ]
  },
  {
   "cell_type": "code",
   "execution_count": null,
   "id": "4c7e30b5",
   "metadata": {},
   "outputs": [],
   "source": []
  },
  {
   "cell_type": "code",
   "execution_count": null,
   "id": "d8ccb1d0",
   "metadata": {},
   "outputs": [],
   "source": [
    "feature_ngram = pd.DataFrame(ngram_matrix.toarray())\n",
    "feature_ngram.head()"
   ]
  },
  {
   "cell_type": "code",
   "execution_count": null,
   "id": "b36cf09b",
   "metadata": {},
   "outputs": [],
   "source": [
    "tfidf = TfidfVectorizer()\n",
    "tfidf_matrix = tfidf.fit_transform(df['cleaned_comments'])"
   ]
  },
  {
   "cell_type": "code",
   "execution_count": null,
   "id": "cb2f4c9e",
   "metadata": {},
   "outputs": [],
   "source": [
    "print(\"Sparse Matrix \\n\",tfidf_matrix)"
   ]
  },
  {
   "cell_type": "code",
   "execution_count": null,
   "id": "00c39520",
   "metadata": {},
   "outputs": [],
   "source": [
    "feature_tfidf = pd.DataFrame(tfidf_matrix.toarray())\n",
    "feature_tfidf.head()"
   ]
  },
  {
   "cell_type": "code",
   "execution_count": null,
   "id": "08951396",
   "metadata": {},
   "outputs": [],
   "source": [
    "feature_tfidf.columns = tfidf.get_feature_names_out()\n",
    "feature_tfidf.head()"
   ]
  },
  {
   "cell_type": "code",
   "execution_count": null,
   "id": "cbe85954",
   "metadata": {},
   "outputs": [],
   "source": [
    "df.head()"
   ]
  },
  {
   "cell_type": "code",
   "execution_count": null,
   "id": "f8cd8f39",
   "metadata": {},
   "outputs": [],
   "source": [
    "matrix_tfidf = feature_tfidf.copy()\n",
    "matrix_tfidf"
   ]
  },
  {
   "cell_type": "code",
   "execution_count": null,
   "id": "753d70e4",
   "metadata": {},
   "outputs": [],
   "source": [
    "x = matrix_tfidf\n",
    "y = df['topic']"
   ]
  },
  {
   "cell_type": "code",
   "execution_count": null,
   "id": "5591b8e8",
   "metadata": {},
   "outputs": [],
   "source": [
    "from sklearn.preprocessing import StandardScaler\n",
    "scaler = StandardScaler()\n",
    "x = scaler.fit_transform(x)"
   ]
  },
  {
   "cell_type": "code",
   "execution_count": null,
   "id": "cf926db5",
   "metadata": {},
   "outputs": [],
   "source": [
    "from sklearn.model_selection import *"
   ]
  },
  {
   "cell_type": "code",
   "execution_count": null,
   "id": "14e952f6",
   "metadata": {},
   "outputs": [],
   "source": [
    "x_train, x_test, y_train, y_test = train_test_split(x,y,test_size=0.2,random_state=42)"
   ]
  },
  {
   "cell_type": "code",
   "execution_count": null,
   "id": "b223d992",
   "metadata": {},
   "outputs": [],
   "source": [
    "from sklearn.ensemble import GradientBoostingClassifier"
   ]
  },
  {
   "cell_type": "code",
   "execution_count": null,
   "id": "91405581",
   "metadata": {},
   "outputs": [],
   "source": [
    "# param_grid = {\n",
    "#     'n_estimators': [2, 3, 4],  # Number of boosting stages to perform\n",
    "#     'learning_rate': [0.1, 0.05, 0.01],  # Learning rate shrinks the contribution of each tree\n",
    "# #     'max_depth': [None, 5, 10],  # Maximum depth of each tree\n",
    "# #     'min_samples_split': [2, 5, 10],  # Minimum number of samples required to split an internal node\n",
    "# #     'min_samples_leaf': [1, 2, 4]  # Minimum number of samples required to be at a leaf node\n",
    "# }\n",
    "\n",
    "# # Create the Gradient Boosting classifier\n",
    "# gb = GradientBoostingClassifier(random_state=42)"
   ]
  },
  {
   "cell_type": "code",
   "execution_count": null,
   "id": "cc2679f3",
   "metadata": {},
   "outputs": [],
   "source": [
    "# Perform grid search using cross-validation\n",
    "# grid_search = GridSearchCV(estimator=gb, param_grid=param_grid, cv=3)\n",
    "# grid_search.fit(x_train, y_train)"
   ]
  },
  {
   "cell_type": "code",
   "execution_count": null,
   "id": "024433e4",
   "metadata": {},
   "outputs": [],
   "source": [
    "gb = GradientBoostingClassifier()"
   ]
  },
  {
   "cell_type": "code",
   "execution_count": null,
   "id": "3630af84",
   "metadata": {},
   "outputs": [],
   "source": [
    "gb.fit(x_train, y_train)"
   ]
  },
  {
   "cell_type": "code",
   "execution_count": null,
   "id": "d434fa05",
   "metadata": {},
   "outputs": [],
   "source": [
    "# print(\"Best parameters: \", grid_search.best_params_ , \"\\n\")"
   ]
  },
  {
   "cell_type": "code",
   "execution_count": null,
   "id": "424c64cc",
   "metadata": {},
   "outputs": [],
   "source": [
    "# Get the best model\n",
    "# best_gb = grid_search.best_estimator_\n",
    "# print(\"best_gb\" , best_gb , \"\\n\")"
   ]
  },
  {
   "cell_type": "code",
   "execution_count": null,
   "id": "d077efa3",
   "metadata": {},
   "outputs": [],
   "source": [
    "# Make predictions on the test set\n",
    "# y_pred = best_gb.predict(X_test)\n",
    "# print(\"y_pred\" , y_pred , \"\\n\")"
   ]
  },
  {
   "cell_type": "code",
   "execution_count": null,
   "id": "f8880590",
   "metadata": {},
   "outputs": [],
   "source": [
    "# Evaluate the model\n",
    "# accuracy = accuracy_score(y_test, y_pred)\n",
    "# print(\"Accuracy: \", accuracy)"
   ]
  },
  {
   "cell_type": "code",
   "execution_count": null,
   "id": "67005c5f",
   "metadata": {},
   "outputs": [],
   "source": []
  },
  {
   "cell_type": "code",
   "execution_count": null,
   "id": "54cc60db",
   "metadata": {},
   "outputs": [],
   "source": []
  },
  {
   "cell_type": "code",
   "execution_count": null,
   "id": "479d50b0",
   "metadata": {},
   "outputs": [],
   "source": []
  },
  {
   "cell_type": "code",
   "execution_count": null,
   "id": "7ba10bf4",
   "metadata": {},
   "outputs": [],
   "source": []
  }
 ],
 "metadata": {
  "kernelspec": {
   "display_name": "Python 3 (ipykernel)",
   "language": "python",
   "name": "python3"
  },
  "language_info": {
   "codemirror_mode": {
    "name": "ipython",
    "version": 3
   },
   "file_extension": ".py",
   "mimetype": "text/x-python",
   "name": "python",
   "nbconvert_exporter": "python",
   "pygments_lexer": "ipython3",
   "version": "3.9.12"
  }
 },
 "nbformat": 4,
 "nbformat_minor": 5
}
